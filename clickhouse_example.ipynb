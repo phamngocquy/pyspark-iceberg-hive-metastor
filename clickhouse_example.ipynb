{
 "cells": [
  {
   "cell_type": "code",
   "execution_count": 18,
   "id": "ae68f574-ca91-499b-a6f9-6becebe27d7b",
   "metadata": {},
   "outputs": [],
   "source": [
    "from pyspark.sql import SparkSession\n",
    "from pyspark.sql.types import StructType,StructField, StringType, IntegerType"
   ]
  },
  {
   "cell_type": "code",
   "execution_count": 19,
   "id": "3cf18f1f-9375-4f07-90d6-e6516b368517",
   "metadata": {},
   "outputs": [],
   "source": [
    "spark = SparkSession.builder.remote(\"sc://localhost:15002\").getOrCreate()"
   ]
  },
  {
   "cell_type": "code",
   "execution_count": 20,
   "id": "a1914d6a-3225-4f5b-bbb2-1f038a8cbaea",
   "metadata": {
    "scrolled": true
   },
   "outputs": [
    {
     "data": {
      "text/plain": [
       "DataFrame[]"
      ]
     },
     "execution_count": 20,
     "metadata": {},
     "output_type": "execute_result"
    }
   ],
   "source": [
    "# select catalog\n",
    "spark.sql(\"use clickhouse\")"
   ]
  },
  {
   "cell_type": "code",
   "execution_count": 21,
   "id": "69387e0b-ccfc-446f-9b03-ebab9b85a7a4",
   "metadata": {},
   "outputs": [
    {
     "name": "stdout",
     "output_type": "stream",
     "text": [
      "+------------------+\n",
      "|         namespace|\n",
      "+------------------+\n",
      "|INFORMATION_SCHEMA|\n",
      "|           default|\n",
      "|information_schema|\n",
      "|            system|\n",
      "+------------------+\n",
      "\n"
     ]
    }
   ],
   "source": [
    "spark.sql(\"SHOW NAMESPACES\").show()"
   ]
  },
  {
   "cell_type": "code",
   "execution_count": 22,
   "id": "d5373c71-e782-456b-89d0-1a76ef098978",
   "metadata": {},
   "outputs": [
    {
     "data": {
      "text/plain": [
       "DataFrame[]"
      ]
     },
     "execution_count": 22,
     "metadata": {},
     "output_type": "execute_result"
    }
   ],
   "source": [
    "spark.sql(\"create database if not exists clickhouse_test;\")"
   ]
  },
  {
   "cell_type": "code",
   "execution_count": 23,
   "id": "675236ce-1d65-4bf8-88b1-bf68cb8a7db9",
   "metadata": {},
   "outputs": [
    {
     "data": {
      "text/plain": [
       "DataFrame[]"
      ]
     },
     "execution_count": 23,
     "metadata": {},
     "output_type": "execute_result"
    }
   ],
   "source": [
    "spark.sql(\"\"\"CREATE TABLE clickhouse_test.tbl (\n",
    "create_time TIMESTAMP NOT NULL,\n",
    "m           INT       NOT NULL COMMENT 'part key',\n",
    "id          BIGINT    NOT NULL COMMENT 'sort key',\n",
    "value       STRING\n",
    ") USING ClickHouse\n",
    "PARTITIONED BY (m)\n",
    "TBLPROPERTIES (\n",
    "engine = 'MergeTree()',\n",
    "order_by = 'id',\n",
    "settings.index_granularity = 8192\n",
    ")\n",
    "\"\"\")"
   ]
  },
  {
   "cell_type": "code",
   "execution_count": null,
   "id": "d6485e1a-a774-43c4-9a17-49fc18cb801e",
   "metadata": {},
   "outputs": [],
   "source": []
  }
 ],
 "metadata": {
  "kernelspec": {
   "display_name": "Python 3 (ipykernel)",
   "language": "python",
   "name": "python3"
  },
  "language_info": {
   "codemirror_mode": {
    "name": "ipython",
    "version": 3
   },
   "file_extension": ".py",
   "mimetype": "text/x-python",
   "name": "python",
   "nbconvert_exporter": "python",
   "pygments_lexer": "ipython3",
   "version": "3.9.16"
  }
 },
 "nbformat": 4,
 "nbformat_minor": 5
}
